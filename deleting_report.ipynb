{
 "cells": [
  {
   "cell_type": "markdown",
   "metadata": {},
   "source": [
    "# Deleting a Canvas report\n",
    "deleting a report that seems to be hung up.   \n",
    "this is done in the live environment. \n",
    "there are 3 calls.  \n",
    "1. to check the report and verify its the correct one\n",
    "2. delete the report\n",
    "3. check that the report can be deleted\n",
    "\n",
    "\n"
   ]
  },
  {
   "cell_type": "code",
   "execution_count": 9,
   "metadata": {},
   "outputs": [
    {
     "name": "stdout",
     "output_type": "stream",
     "text": [
      "...loaded my key and did some package imports...\n"
     ]
    }
   ],
   "source": [
    "# just some important imports ,, run this cell when u start \n",
    "import json\n",
    "import re\n",
    "import requests\n",
    "from pprintpp import pprint as pp\n",
    "import ipywidgets as widgets\n",
    "from IPython.core.display import display, HTML\n",
    "import time\n",
    "\n",
    "with open('live_envir.json') as json_f:\n",
    "    data = json.load(json_f)\n",
    "    key = data['api_key']\n",
    "    print(\"...loaded my key and did some package imports...\")\n",
    "    \n",
    "domain = 'https://canvas.upenn.edu'\n",
    "headers = {\n",
    "    'Authorization': 'Bearer %s' % (key) ,\n",
    "}\n"
   ]
  },
  {
   "cell_type": "code",
   "execution_count": 17,
   "metadata": {},
   "outputs": [
    {
     "name": "stdout",
     "output_type": "stream",
     "text": [
      "{\n",
      "    'created_at': '2018-10-08T14:42:57-04:00',\n",
      "    'current_line': None,\n",
      "    'ended_at': None,\n",
      "    'file_url': None,\n",
      "    'id': 3363453,\n",
      "    'parameters': {'terms': '1'},\n",
      "    'progress': 0,\n",
      "    'report': 'provisioning_csv',\n",
      "    'started_at': None,\n",
      "    'status': 'running',\n",
      "}\n"
     ]
    }
   ],
   "source": [
    "# Lets view the specific report\n",
    "url = '%s/api/v1/accounts/self/reports/provisioning_csv/3363453' % (domain)\n",
    "response = requests.get(url, headers=headers).json()\n",
    "pp(response)\n"
   ]
  },
  {
   "cell_type": "code",
   "execution_count": 18,
   "metadata": {},
   "outputs": [
    {
     "name": "stdout",
     "output_type": "stream",
     "text": [
      "{\n",
      "    'attachment': {\n",
      "        'content-type': 'text/csv',\n",
      "        'created_at': '2018-10-09T18:18:32Z',\n",
      "        'display_name': 'provisioning_csv_09_Oct_2018_336345320181009-21741-mp3ifz.csv',\n",
      "        'filename': 'provisioning_csv_23_Jun_2018_333229120180623-16310-6tqna8.csv',\n",
      "        'folder_id': 5194790,\n",
      "        'hidden': False,\n",
      "        'hidden_for_user': False,\n",
      "        'id': 72232171,\n",
      "        'lock_at': None,\n",
      "        'locked': False,\n",
      "        'locked_for_user': False,\n",
      "        'media_entry_id': None,\n",
      "        'mime_class': 'file',\n",
      "        'modified_at': '2018-10-09T18:18:32Z',\n",
      "        'size': 3621,\n",
      "        'thumbnail_url': None,\n",
      "        'unlock_at': None,\n",
      "        'updated_at': '2018-10-09T18:18:32Z',\n",
      "        'url': 'https://canvas.upenn.edu/files/72232171/download?download_frd=1&verifier=a6eYEiQGUiZYqD720bLz8wQTf59iscBLW9BF0aaw',\n",
      "        'uuid': 'a6eYEiQGUiZYqD720bLz8wQTf59iscBLW9BF0aaw',\n",
      "        'workflow_state': 'processed',\n",
      "    },\n",
      "    'created_at': '2018-10-08T14:42:57-04:00',\n",
      "    'current_line': 41,\n",
      "    'ended_at': '2018-10-09T14:18:32-04:00',\n",
      "    'file_url': 'https://canvas.upenn.edu/accounts/96678/files/72232171/download',\n",
      "    'id': 3363453,\n",
      "    'parameters': {\n",
      "        'extra_text': 'Term: All Terms; Reports: terms ',\n",
      "        'terms': '1',\n",
      "    },\n",
      "    'progress': 100,\n",
      "    'report': 'provisioning_csv',\n",
      "    'started_at': '2018-10-09T14:18:31-04:00',\n",
      "    'status': 'deleted',\n",
      "}\n"
     ]
    }
   ],
   "source": [
    "# Lets delete the specific report\n",
    "url = '%s/api/v1/accounts/self/reports/provisioning_csv/3363453' % (domain)\n",
    "response = requests.delete(url, headers=headers).json()\n",
    "pp(response)\n"
   ]
  },
  {
   "cell_type": "code",
   "execution_count": 19,
   "metadata": {},
   "outputs": [
    {
     "name": "stdout",
     "output_type": "stream",
     "text": [
      "{\n",
      "    'error_report_id': 409585502,\n",
      "    'errors': [{'message': 'The specified resource does not exist.'}],\n",
      "}\n"
     ]
    }
   ],
   "source": [
    "# Lets see the specific report again\n",
    "\n",
    "url = '%s/api/v1/accounts/self/reports/provisioning_csv/3363453' % (domain)\n",
    "response = requests.get(url, headers=headers).json()\n",
    "\n",
    "pp(response)"
   ]
  },
  {
   "cell_type": "code",
   "execution_count": null,
   "metadata": {},
   "outputs": [],
   "source": []
  }
 ],
 "metadata": {
  "kernelspec": {
   "display_name": "Python 3",
   "language": "python",
   "name": "python3"
  },
  "language_info": {
   "codemirror_mode": {
    "name": "ipython",
    "version": 3
   },
   "file_extension": ".py",
   "mimetype": "text/x-python",
   "name": "python",
   "nbconvert_exporter": "python",
   "pygments_lexer": "ipython3",
   "version": "3.7.0"
  }
 },
 "nbformat": 4,
 "nbformat_minor": 2
}
