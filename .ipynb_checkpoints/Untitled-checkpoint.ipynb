{
 "cells": [
  {
   "cell_type": "markdown",
   "metadata": {},
   "source": [
    "## (ﾉ◕ヮ◕)ﾉ*:･ﾟ✧ Maddy's first tests with canvas api !\n",
    "\n",
    "For my testings I will only be using my API key which is hidden in my .gitignore ! \n",
    "I am doing all of my testing in the [test enviroment](https://upenn.test.instructure.com/) which resests every 3 weeks.\n",
    "\n",
    "----\n",
    "\n",
    "### Some Helpful links  \n",
    "> [canvas api doc](https://canvas.instructure.com/doc/api/index.html)  \n",
    "[python requests](https://pypi.org/project/requests/)  \n",
    "[pprint](https://docs.python.org/3.2/library/pprint.html) or [pprintpp](https://pypi.org/project/pprintpp/)  \n",
    "[widgets](https://ipywidgets.readthedocs.io/en/stable/examples/Widget%20List.html)\n",
    "\n",
    "**note for myself:** if you didn't start this server with an appended '&', you better close out and restart with that so you can still do terminal tasks in the venv.\n"
   ]
  },
  {
   "cell_type": "code",
   "execution_count": 40,
   "metadata": {},
   "outputs": [
    {
     "name": "stdout",
     "output_type": "stream",
     "text": [
      "...loaded my key and did some package imports...\n"
     ]
    }
   ],
   "source": [
    "import json\n",
    "import requests\n",
    "from pprintpp import pprint as pp\n",
    "import ipywidgets as widgets\n",
    "from IPython.core.display import display, HTML\n",
    "\n",
    "with open('client_secret.json') as json_f:\n",
    "    data = json.load(json_f)\n",
    "    key = data['api_key']\n",
    "    print(\"...loaded my key and did some package imports...\")"
   ]
  },
  {
   "cell_type": "markdown",
   "metadata": {},
   "source": [
    "### Lets see what happens when I try to get a list of my courses"
   ]
  },
  {
   "cell_type": "code",
   "execution_count": 20,
   "metadata": {},
   "outputs": [
    {
     "data": {
      "text/html": [
       "<p><b>queried:</b> https://upenn.test.instructure.com/api/v1/courses</p><p><b>result:</b></p>"
      ],
      "text/plain": [
       "<IPython.core.display.HTML object>"
      ]
     },
     "metadata": {},
     "output_type": "display_data"
    },
    {
     "name": "stdout",
     "output_type": "stream",
     "text": [
      "[\n",
      "    {\n",
      "        'account_id': 99238,\n",
      "        'apply_assignment_group_weights': False,\n",
      "        'calendar': {\n",
      "            'ics': 'https://upenn.test.instructure.com/feeds/calendars/course_tS9eumBmbiaBvz8cVrZDj5DWrVJIYAX9eBfVDbkn.ics',\n",
      "        },\n",
      "        'course_code': 'SRS_CIS-520-001 2017C',\n",
      "        'default_view': 'wiki',\n",
      "        'end_at': None,\n",
      "        'enrollment_term_id': 2244,\n",
      "        'enrollments': [\n",
      "            {\n",
      "                'enrollment_state': 'active',\n",
      "                'role': 'StudentEnrollment',\n",
      "                'role_id': 2022,\n",
      "                'type': 'student',\n",
      "                'user_id': 5443278,\n",
      "            },\n",
      "        ],\n",
      "        'grading_standard_id': None,\n",
      "        'hide_final_grades': False,\n",
      "        'id': 1374627,\n",
      "        'integration_id': None,\n",
      "        'is_public': True,\n",
      "        'is_public_to_auth_users': False,\n",
      "        'name': 'CIS 520 2017C Machine Learning',\n",
      "        'public_syllabus': True,\n",
      "        'public_syllabus_to_auth': False,\n",
      "        'restrict_enrollments_to_course_dates': False,\n",
      "        'root_account_id': 96678,\n",
      "        'sis_course_id': 'SRS_CIS-520-001 2017C',\n",
      "        'sis_import_id': None,\n",
      "        'start_at': '2017-08-22T22:25:00Z',\n",
      "        'storage_quota_mb': 1000,\n",
      "        'time_zone': 'America/New_York',\n",
      "        'uuid': 'tS9eumBmbiaBvz8cVrZDj5DWrVJIYAX9eBfVDbkn',\n",
      "        'workflow_state': 'available',\n",
      "    },\n",
      "]\n"
     ]
    }
   ],
   "source": [
    "domain = 'https://upenn.test.instructure.com'\n",
    "headers = {\n",
    "    'Authorization': 'Bearer %s' % (key) ,\n",
    "}\n",
    "url = '%s/api/v1/courses' % (domain)\n",
    "response = requests.get(url, headers=headers)\n",
    "r = response.json()\n",
    "display(HTML('<p><b>queried:</b> %s</p><p><b>result:</b></p>' % (url)))\n",
    "pp(r)\n"
   ]
  },
  {
   "cell_type": "markdown",
   "metadata": {},
   "source": [
    "### Lets see if I can pull the front page and then display it!\n",
    "**note:** I am taking the 'id' field for the course from the result of the previous query "
   ]
  },
  {
   "cell_type": "code",
   "execution_count": 21,
   "metadata": {},
   "outputs": [
    {
     "data": {
      "text/html": [
       "<p><b>queried:</b> https://upenn.test.instructure.com/api/v1/courses/1374627/front_page</p><p><b>result[body]:</b></p>"
      ],
      "text/plain": [
       "<IPython.core.display.HTML object>"
      ]
     },
     "metadata": {},
     "output_type": "display_data"
    },
    {
     "data": {
      "text/html": [
       "<p> Most of the information for this course is on the <a href=\"https://alliance.seas.upenn.edu/~cis520/wiki/\">Course Wiki</a>, not here.</p>\r\n",
       "<p>We will use this canvas site largely for homework assignments and grades.</p>\r\n",
       "<p>Discussions will be on piazza, where you should post all your questions. </p>\r\n",
       "<p><strong>                Do not post questions on canvas; we won't see them!</strong></p>"
      ],
      "text/plain": [
       "<IPython.core.display.HTML object>"
      ]
     },
     "metadata": {},
     "output_type": "display_data"
    }
   ],
   "source": [
    "url = '%s/api/v1/courses/%s/front_page' % (domain, r[0]['id'])\n",
    "this = requests.get(url, headers=headers)\n",
    "t = this.json()\n",
    "#pp(t)\n",
    "display(HTML('<p><b>queried:</b> %s</p><p><b>result[body]:</b></p>' % (url)))\n",
    "display(HTML(t['body']))"
   ]
  },
  {
   "cell_type": "code",
   "execution_count": 26,
   "metadata": {},
   "outputs": [
    {
     "data": {
      "text/html": [
       "<p><b>queried:</b> https://upenn.test.instructure.com/api/v1/courses/1374627/pages</p><p><b>result:</b></p>"
      ],
      "text/plain": [
       "<IPython.core.display.HTML object>"
      ]
     },
     "metadata": {},
     "output_type": "display_data"
    },
    {
     "name": "stdout",
     "output_type": "stream",
     "text": [
      "[\n",
      "    {\n",
      "        'created_at': '2017-08-16T19:20:46Z',\n",
      "        'editing_roles': 'teachers',\n",
      "        'front_page': True,\n",
      "        'hide_from_students': False,\n",
      "        'html_url': 'https://upenn.test.instructure.com/courses/1374627/pages/front-page',\n",
      "        'last_edited_by': {\n",
      "            'avatar_image_url': 'https://upenn.test.instructure.com/images/messages/avatar-50.png',\n",
      "            'display_name': 'Madeleine Hodges',\n",
      "            'html_url': 'https://upenn.test.instructure.com/courses/1374627/users/5443278',\n",
      "            'id': 5443278,\n",
      "        },\n",
      "        'locked_for_user': False,\n",
      "        'page_id': 4649195,\n",
      "        'published': True,\n",
      "        'title': 'Front Page',\n",
      "        'todo_date': None,\n",
      "        'updated_at': '2018-09-26T20:04:18Z',\n",
      "        'url': 'front-page',\n",
      "    },\n",
      "]\n"
     ]
    }
   ],
   "source": [
    "url = '%s/api/v1/courses/%s/pages' % (domain, r[0]['id'])\n",
    "pages_list = requests.get(url, headers=headers).json()\n",
    "display(HTML('<p><b>queried:</b> %s</p><p><b>result:</b></p>' % (url)))\n",
    "pp(pages_list)"
   ]
  },
  {
   "cell_type": "markdown",
   "metadata": {},
   "source": [
    "## Hmm it seems like there is only one page associated with this course... \n",
    "hmm lets just overwrite what my professor had as the body\n",
    "### update/create front page (w. request parameters) "
   ]
  },
  {
   "cell_type": "code",
   "execution_count": 29,
   "metadata": {},
   "outputs": [
    {
     "data": {
      "text/html": [
       "<p><b>queried:</b> https://upenn.test.instructure.com/api/v1/courses/1374627/front_page</p><p><b>new front_page body:</b></p>"
      ],
      "text/plain": [
       "<IPython.core.display.HTML object>"
      ]
     },
     "metadata": {},
     "output_type": "display_data"
    },
    {
     "data": {
      "text/html": [
       "Updated body text"
      ],
      "text/plain": [
       "<IPython.core.display.HTML object>"
      ]
     },
     "metadata": {},
     "output_type": "display_data"
    }
   ],
   "source": [
    "data = {\n",
    "  'wiki_page[body]': 'Updated body text'\n",
    "}\n",
    "url = '%s/api/v1/courses/%s/front_page' % (domain, r[0]['id'])\n",
    "response = requests.put(url, headers=headers, data=data).json()\n",
    "display(HTML('<p><b>queried:</b> %s</p><p><b>new front_page body:</b></p>' % (url)))\n",
    "display(HTML(response['body']))"
   ]
  },
  {
   "cell_type": "markdown",
   "metadata": {},
   "source": [
    "<hr>\n",
    "\n",
    "\n",
    "## OH no!!! \n",
    "### I miss that description!! it was so nice and helpful !! let's bring it back \n",
    "\n",
    "\n",
    "#### How about the revisions GET method?"
   ]
  },
  {
   "cell_type": "code",
   "execution_count": 36,
   "metadata": {},
   "outputs": [
    {
     "data": {
      "text/html": [
       "<p><b>queried:</b> https://upenn.test.instructure.com/api/v1/courses/1374627/pages/front-page/revisions</p><p><b><result:</b></p>"
      ],
      "text/plain": [
       "<IPython.core.display.HTML object>"
      ]
     },
     "metadata": {},
     "output_type": "display_data"
    },
    {
     "name": "stdout",
     "output_type": "stream",
     "text": [
      "[\n",
      "    {\n",
      "        'edited_by': {\n",
      "            'avatar_image_url': 'https://upenn.test.instructure.com/images/messages/avatar-50.png',\n",
      "            'display_name': 'Madeleine Hodges',\n",
      "            'html_url': 'https://upenn.test.instructure.com/courses/1374627/users/5443278',\n",
      "            'id': 5443278,\n",
      "        },\n",
      "        'latest': True,\n",
      "        'revision_id': 3,\n",
      "        'updated_at': '2018-09-26T20:04:18Z',\n",
      "    },\n",
      "    {\n",
      "        'edited_by': {\n",
      "            'avatar_image_url': 'https://upenn.test.instructure.com/images/messages/avatar-50.png',\n",
      "            'display_name': 'Lyle Ungar',\n",
      "            'html_url': 'https://upenn.test.instructure.com/users/4560367',\n",
      "            'id': 4560367,\n",
      "        },\n",
      "        'latest': False,\n",
      "        'revision_id': 2,\n",
      "        'updated_at': '2017-08-16T19:29:23Z',\n",
      "    },\n",
      "    {'latest': False, 'revision_id': 1, 'updated_at': '2017-08-16T19:20:46Z'},\n",
      "]\n"
     ]
    }
   ],
   "source": [
    "url = '%s/api/v1/courses/%s/pages/front-page/revisions' % (domain, r[0]['id'])\n",
    "get_revisions = requests.get(url, headers=headers).json()\n",
    "display(HTML('<p><b>queried:</b> %s</p> <p><b><result:</b></p>' % (url)))\n",
    "pp(get_revisions)"
   ]
  },
  {
   "cell_type": "markdown",
   "metadata": {},
   "source": [
    "#### There!!! lets revert to revision_id 2 "
   ]
  },
  {
   "cell_type": "code",
   "execution_count": 38,
   "metadata": {},
   "outputs": [
    {
     "data": {
      "text/html": [
       "<p><b>queried:</b> https://upenn.test.instructure.com/api/v1/courses/1374627/pages/front-page/revisions/2</p> <p><b><result:</b></p>"
      ],
      "text/plain": [
       "<IPython.core.display.HTML object>"
      ]
     },
     "metadata": {},
     "output_type": "display_data"
    },
    {
     "name": "stdout",
     "output_type": "stream",
     "text": [
      "{\n",
      "    'body': '<p>\\xa0Most of the information for this course is on the <a href=\"https://alliance.seas.upenn.edu/~cis520/wiki/\">Course Wiki</a>, not here.</p>\\r\\n<p>We will use this canvas site largely for homework assignments and grades.</p>\\r\\n<p>Discussions will be on piazza, where you should post all your questions.\\xa0</p>\\r\\n<p><strong>\\xa0 \\xa0 \\xa0 \\xa0 \\xa0 \\xa0 \\xa0 \\xa0 Do not post questions on canvas; we won\\'t see them!</strong></p>',\n",
      "    'edited_by': {\n",
      "        'avatar_image_url': 'https://upenn.test.instructure.com/images/messages/avatar-50.png',\n",
      "        'display_name': 'Madeleine Hodges',\n",
      "        'html_url': 'https://upenn.test.instructure.com/courses/1374627/users/5443278',\n",
      "        'id': 5443278,\n",
      "    },\n",
      "    'latest': True,\n",
      "    'revision_id': 4,\n",
      "    'title': 'Front Page',\n",
      "    'updated_at': '2018-09-26T20:33:29Z',\n",
      "    'url': 'front-page',\n",
      "}\n"
     ]
    }
   ],
   "source": [
    "revisions_id = '2'\n",
    "url = '%s/api/v1/courses/%s/pages/front-page/revisions/%s' % (domain, r[0]['id'],revisions_id)\n",
    "revert_revisions = requests.post(url, headers=headers).json()\n",
    "display(HTML('<p><b>queried:</b> %s</p> <p><b><result:</b></p>' % (url)))\n",
    "pp(revert_revisions)"
   ]
  },
  {
   "cell_type": "markdown",
   "metadata": {},
   "source": [
    "## PHEW! That was a close one ! thank the Canvas gods for that\n",
    "### for good times sake lets see that as rendered html"
   ]
  },
  {
   "cell_type": "code",
   "execution_count": 39,
   "metadata": {},
   "outputs": [
    {
     "data": {
      "text/html": [
       "<p> Most of the information for this course is on the <a href=\"https://alliance.seas.upenn.edu/~cis520/wiki/\">Course Wiki</a>, not here.</p>\r\n",
       "<p>We will use this canvas site largely for homework assignments and grades.</p>\r\n",
       "<p>Discussions will be on piazza, where you should post all your questions. </p>\r\n",
       "<p><strong>                Do not post questions on canvas; we won't see them!</strong></p>"
      ],
      "text/plain": [
       "<IPython.core.display.HTML object>"
      ]
     },
     "metadata": {},
     "output_type": "display_data"
    }
   ],
   "source": [
    "display(HTML(revert_revisions['body']))"
   ]
  },
  {
   "cell_type": "code",
   "execution_count": null,
   "metadata": {},
   "outputs": [],
   "source": []
  }
 ],
 "metadata": {
  "kernelspec": {
   "display_name": "projectname",
   "language": "python",
   "name": "projectname"
  },
  "language_info": {
   "codemirror_mode": {
    "name": "ipython",
    "version": 3
   },
   "file_extension": ".py",
   "mimetype": "text/x-python",
   "name": "python",
   "nbconvert_exporter": "python",
   "pygments_lexer": "ipython3",
   "version": "3.7.0"
  }
 },
 "nbformat": 4,
 "nbformat_minor": 2
}
