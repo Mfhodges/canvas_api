{
 "cells": [
  {
   "cell_type": "markdown",
   "metadata": {},
   "source": [
    "# Ares LTI usage in all Canvas Courses\n",
    "<hr>\n",
    "This notebook pulls from all Canvas courses and iterates through checking which courses have the LTI enabled and if so, if there are observer students in the course who are potentially affected by the tabs permission issue.  \n",
    "The results are written to a csv"
   ]
  },
  {
   "cell_type": "code",
   "execution_count": 1,
   "metadata": {},
   "outputs": [
    {
     "name": "stdout",
     "output_type": "stream",
     "text": [
      "...loaded my key and did some package imports...\n"
     ]
    }
   ],
   "source": [
    "# just some important imports ,, run this cell when u start \n",
    "import json\n",
    "import re\n",
    "import requests\n",
    "from pprintpp import pprint as pp\n",
    "import ipywidgets as widgets\n",
    "from IPython.core.display import display, HTML\n",
    "import time\n",
    "import csv,sys\n",
    "from multiprocessing import Process\n",
    "\n",
    "with open('../live_envir.json') as json_f:\n",
    "    data = json.load(json_f)\n",
    "    key = data['api_key']\n",
    "    print(\"...loaded my key and did some package imports...\")\n",
    "    \n",
    "domain = 'https://canvas.upenn.edu'\n",
    "headers = {\n",
    "    'Authorization': 'Bearer %s' % (key) ,\n",
    "}"
   ]
  },
  {
   "cell_type": "code",
   "execution_count": null,
   "metadata": {},
   "outputs": [],
   "source": [
    "current_term_id = '5911'\n",
    "external_tool_id = '62901'\n",
    " # 'id': 'context_external_tool_62901',\n",
    "\n",
    "def courses_LTI(page_start,page_end):\n",
    "    tab_id = 'context_external_tool_62901'\n",
    "    \n",
    "    outputFile = 'ARES_LTI_REPORT_page_%s_%s.csv' % (page_start,page_end)\n",
    "    output = csv.writer(open(outputFile,\"w\", newline='')) #create a csv.write\n",
    "    output.writerow(['sis_course_id', 'id','course_code' ,'ares','visibility'])#data[0].keys())  # header row\n",
    "  \n",
    "    url = '%s/api/v1/accounts/self/courses?page=%s&per_page=100' % (domain , page_start)\n",
    "\n",
    "    counter = 0\n",
    "    running = True\n",
    "    while running:\n",
    "        response = requests.get(url, headers=headers)\n",
    "        r=response.json()\n",
    "        len_r = len(r)\n",
    "        display(HTML('<p><b>queried:</b> %s</p><p><b>\\t result(%s) courses:</b></p>' % (url,len(r))))\n",
    "\n",
    "        for i in range(0,len_r): # looking at each course on this page\n",
    "                course_number = r[i]['id']\n",
    "                url_tabs = '%s/api/v1/courses/%s/tabs' % (domain,course_number)\n",
    "                response_tabs = requests.get(url_tabs, headers=headers).json()\n",
    "                #display(HTML('<p><b>queried:</b> %s</p><p><b>\\t result(%s) tabs:</b></p>' % (url_tabs,len(response_tabs))))\n",
    "\n",
    "                ares_val = [response_tabs['visibility'] for response_tabs in response_tabs if response_tabs['id'] == tab_id] \n",
    "                if ares_val == []:\n",
    "                    ares = false\n",
    "                    ares_val = False\n",
    "                else: ares= True\n",
    "\n",
    "                row = [r[i]['sis_course_id'],r[i]['id'],r[i]['course_code'],ares, ares_val]\n",
    "                #print(row)\n",
    "                output.writerow(row)\n",
    "\n",
    "        #finished looking at the courses on the page now lets get the next page    \n",
    "        parsed_links = requests.utils.parse_header_links(response.headers['Link'].rstrip('>').replace('>,<', ',<'))\n",
    "        if counter ==0: pp(parsed_links) \n",
    "\n",
    "        cur_url =  next(item for item in parsed_links if item[\"rel\"] == \"current\")\n",
    "        try: # if we are on the last page there is no next\n",
    "            next_url = next(item for item in parsed_links if item[\"rel\"] == \"next\")    \n",
    "        except:\n",
    "            next_url = \"finished\"\n",
    "            running = False\n",
    "        counter +=1\n",
    "        if counter == page_end: running, next_url = False, \"finished\"\n",
    "        print(\"finished page: \", counter)\n",
    "        #print(\"next url: \", next_url['url'])\n",
    "        url = next_url['url']\n",
    "\n",
    "\n",
    "    \n",
    "    \n",
    "\n",
    "\n",
    "def func1():\n",
    "    print('func1: starting')\n",
    "    courses_LTI('1','200')\n",
    "    print('func1: finishing')\n",
    "\n",
    "    \n",
    "def func2():\n",
    "  print('func2: starting')\n",
    "  courses_LTI('200','400')\n",
    "  print('func2: finishing')\n",
    "\n",
    "if __name__ == '__main__':\n",
    "  p1 = Process(target=func1)\n",
    "  p1.start()\n",
    "  p2 = Process(target=func2)\n",
    "  p2.start()\n",
    "  p1.join()\n",
    "  p2.join()\n",
    "\n",
    "\n",
    "\n",
    "#context_external_tool_62901\n"
   ]
  },
  {
   "cell_type": "code",
   "execution_count": null,
   "metadata": {},
   "outputs": [],
   "source": [
    "print(parsed_links)\n",
    "cur =  next(item for item in parsed_links if item[\"rel\"] == \"current\")\n",
    "print(cur)"
   ]
  },
  {
   "cell_type": "code",
   "execution_count": null,
   "metadata": {},
   "outputs": [],
   "source": [
    "try:\n",
    "    c = cur['help']\n",
    "except:\n",
    "    print(\"oh\")\n"
   ]
  },
  {
   "cell_type": "code",
   "execution_count": null,
   "metadata": {},
   "outputs": [],
   "source": [
    "x =[\n",
    "    {\n",
    "        'full_url': 'https://upenn.test.instructure.com/courses/1418936',\n",
    "        'html_url': '/courses/1418936',\n",
    "        'id': 'home',\n",
    "        'label': 'Home',\n",
    "        'position': 1,\n",
    "        'type': 'internal',\n",
    "        'visibility': 'public',\n",
    "    },\n",
    "    {\n",
    "        'full_url': 'https://upenn.test.instructure.com/courses/1418936/announcements',\n",
    "        'html_url': '/courses/1418936/announcements',\n",
    "        'id': 'announcements',\n",
    "        'label': 'Announcements',\n",
    "        'position': 2,\n",
    "        'type': 'internal',\n",
    "        'visibility': 'public',\n",
    "    },\n",
    "    {\n",
    "        'full_url': 'https://upenn.test.instructure.com/courses/1418936/assignments',\n",
    "        'html_url': '/courses/1418936/assignments',\n",
    "        'id': 'assignments',\n",
    "        'label': 'Assignments',\n",
    "        'position': 3,\n",
    "        'type': 'internal',\n",
    "        'visibility': 'public',\n",
    "    }]"
   ]
  },
  {
   "cell_type": "code",
   "execution_count": null,
   "metadata": {},
   "outputs": [],
   "source": [
    "val = [x['visibility'] for x in x if x['id'] == 'assignments']\n",
    "print(val)"
   ]
  },
  {
   "cell_type": "code",
   "execution_count": null,
   "metadata": {},
   "outputs": [],
   "source": [
    "running, next_url = False, \"finished\"\n",
    "print(running)\n",
    "print(next_url)"
   ]
  },
  {
   "cell_type": "code",
   "execution_count": null,
   "metadata": {},
   "outputs": [],
   "source": []
  },
  {
   "cell_type": "code",
   "execution_count": null,
   "metadata": {},
   "outputs": [],
   "source": []
  },
  {
   "cell_type": "code",
   "execution_count": null,
   "metadata": {},
   "outputs": [],
   "source": []
  }
 ],
 "metadata": {
  "kernelspec": {
   "display_name": "Python 3",
   "language": "python",
   "name": "python3"
  },
  "language_info": {
   "codemirror_mode": {
    "name": "ipython",
    "version": 3
   },
   "file_extension": ".py",
   "mimetype": "text/x-python",
   "name": "python",
   "nbconvert_exporter": "python",
   "pygments_lexer": "ipython3",
   "version": "3.7.0"
  }
 },
 "nbformat": 4,
 "nbformat_minor": 2
}
